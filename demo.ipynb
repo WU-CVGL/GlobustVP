{
 "cells": [
  {
   "cell_type": "markdown",
   "id": "4674b2fb",
   "metadata": {},
   "source": [
    "# GlobustVP Demo\n",
    "\n",
    "This notebook demonstrates how to use **GlobustVP** to estimate vanishing points from a real image."
   ]
  },
  {
   "cell_type": "code",
   "execution_count": null,
   "id": "4d21809a",
   "metadata": {},
   "outputs": [],
   "source": [
    "# 📦 Setup (only needed if running on Google Colab or outside the repo)\n",
    "from pathlib import Path\n",
    "\n",
    "if Path.cwd().name != \"GlobustVP\":\n",
    "    !git clone --quiet https://github.com/WU-CVGL/GlobustVP.git\n",
    "    %cd GlobustVP\n",
    "    !pip install --quiet --progress-bar off -e .\n",
    "\n",
    "# 🔁 (Optional) Reload modules automatically if you modify the source code\n",
    "# %load_ext autoreload\n",
    "# %autoreload 2"
   ]
  },
  {
   "cell_type": "markdown",
   "id": "2baba440",
   "metadata": {},
   "source": [
    "## 🔧 Imports\n",
    "\n",
    "We import the necessary modules from the GlobustVP package."
   ]
  },
  {
   "cell_type": "code",
   "execution_count": null,
   "id": "723a2a7f",
   "metadata": {},
   "outputs": [],
   "source": [
    "import time\n",
    "import numpy as np\n",
    "\n",
    "from globustvp.solver.core import globustvp\n",
    "from globustvp.utils.io import load_image_and_gray\n",
    "from globustvp.utils.geometry import (\n",
    "    normalize_lines,\n",
    "    compute_backprojection_normals,\n",
    "    compute_line_uncertainties\n",
    ")\n",
    "from globustvp.utils.plot import plot_lines_on_image, visualize_line_vp_associations\n",
    "from globustvp.utils.line_processing import detect_and_format_lines"
   ]
  },
  {
   "cell_type": "markdown",
   "id": "ded2c5d2",
   "metadata": {},
   "source": [
    "## 📷 Step 1: Load input image\n",
    "Read the target image and convert to grayscale."
   ]
  },
  {
   "cell_type": "code",
   "execution_count": null,
   "id": "444096b7",
   "metadata": {},
   "outputs": [],
   "source": [
    "print(\"📷 Loading image...\")\n",
    "img, gray = load_image_and_gray(\"assets/indoor.jpg\")"
   ]
  },
  {
   "cell_type": "markdown",
   "id": "4579502a",
   "metadata": {},
   "source": [
    "## 🧪 Step 2: Detect and filter line segments using LSD\n",
    "We use LSD detector, filter lines by length, and perform clustering based on dominant orientation."
   ]
  },
  {
   "cell_type": "code",
   "execution_count": null,
   "id": "f7cce2d9",
   "metadata": {},
   "outputs": [],
   "source": [
    "print(\"🧪 Running LSD line detection and filtering...\")\n",
    "lines_2D = detect_and_format_lines(gray_image=gray, min_length=30)\n",
    "print(f\"✅ {lines_2D.shape[1]} lines remain after filtering.\")"
   ]
  },
  {
   "cell_type": "markdown",
   "id": "431d2cbd",
   "metadata": {},
   "source": [
    "## 📊 Step 3: Visualize detected line segments"
   ]
  },
  {
   "cell_type": "code",
   "execution_count": null,
   "id": "9de22eb7",
   "metadata": {},
   "outputs": [],
   "source": [
    "plot_lines_on_image(image=img, lines=lines_2D)"
   ]
  },
  {
   "cell_type": "markdown",
   "id": "0fc7f469",
   "metadata": {},
   "source": [
    "## 📐 Step 4: Normalize line segments using intrinsics"
   ]
  },
  {
   "cell_type": "code",
   "execution_count": null,
   "id": "f5e458de",
   "metadata": {},
   "outputs": [],
   "source": [
    "print(\"📐 Normalizing lines using camera intrinsics...\")\n",
    "K = np.array([[674.917975164175, 0, 307.551305282635],\n",
    "              [0, 674.917975164175, 251.454244960136],\n",
    "              [0, 0, 1]])\n",
    "\n",
    "normalized_lines = normalize_lines(K, lines_2D).T\n",
    "print(\"✅ Normalization complete.\")"
   ]
  },
  {
   "cell_type": "markdown",
   "id": "157b98ca",
   "metadata": {},
   "source": [
    "## 🧮 Step 5: Convert normalized lines to plane normals"
   ]
  },
  {
   "cell_type": "code",
   "execution_count": null,
   "id": "b1669752",
   "metadata": {},
   "outputs": [],
   "source": [
    "print(\"🧮 Converting lines to back-projection normals...\")\n",
    "para_lines = compute_backprojection_normals(normalized_lines)\n",
    "print(\"✅ Generated\", para_lines.shape[0], \"normals.\")"
   ]
  },
  {
   "cell_type": "markdown",
   "id": "e7c2c083",
   "metadata": {},
   "source": [
    "## 📏 Step 6: Estimate uncertainty for each line"
   ]
  },
  {
   "cell_type": "code",
   "execution_count": null,
   "id": "1fbb2064",
   "metadata": {},
   "outputs": [],
   "source": [
    "print(\"📏 Assigning uncertainty weights...\")\n",
    "uncertainty = compute_line_uncertainties(normalized_lines, K, use_uncertainty=True)"
   ]
  },
  {
   "cell_type": "markdown",
   "id": "51b90d3b",
   "metadata": {},
   "source": [
    "## 🚀 Step 7: Run GlobustVP solver"
   ]
  },
  {
   "cell_type": "code",
   "execution_count": null,
   "id": "8c1d5d2b",
   "metadata": {},
   "outputs": [],
   "source": [
    "param = {\n",
    "    \"line_num\": lines_2D.shape[1],\n",
    "    \"vanishing_point_num\": 3,\n",
    "    \"c\": 0.03,\n",
    "    \"sample_line_num\": 4,\n",
    "    \"is_fast_solver\": True,\n",
    "    \"eigen_threshold\": 1,\n",
    "    \"solver\": \"SCS\",\n",
    "    \"solver_opts\": {\"eps_abs\": 1e-12, \"eps_rel\": 1e-12},\n",
    "    \"K\": K\n",
    "}\n",
    "\n",
    "print(\"🚀 Running GlobustVP solver...\")\n",
    "t_start = time.time()\n",
    "status, est_vps, est_corrs = globustvp(normalized_lines, para_lines, uncertainty, param)\n",
    "t_end = time.time()\n",
    "\n",
    "if status:\n",
    "    print(\"✅ GlobustVP succeeded in {:.4f} seconds\".format(t_end - t_start))\n",
    "    print(\"🧭 Estimated vanishing points:\\n\", est_vps)\n",
    "else:\n",
    "    print(\"❌ GlobustVP failed to converge.\")"
   ]
  },
  {
   "cell_type": "markdown",
   "id": "5d4cf58a",
   "metadata": {},
   "source": [
    "## 🎨 Step 8: Visualize line-VP association results"
   ]
  },
  {
   "cell_type": "code",
   "execution_count": null,
   "id": "097921f0",
   "metadata": {},
   "outputs": [],
   "source": [
    "print(\"🎨 Plotting vanishing point estimation result...\")\n",
    "visualize_line_vp_associations(image=img, lines=lines_2D, est_corrs=est_corrs)"
   ]
  }
 ],
 "metadata": {
  "kernelspec": {
   "display_name": "globustvp",
   "language": "python",
   "name": "python3"
  },
  "language_info": {
   "codemirror_mode": {
    "name": "ipython",
    "version": 3
   },
   "file_extension": ".py",
   "mimetype": "text/x-python",
   "name": "python",
   "nbconvert_exporter": "python",
   "pygments_lexer": "ipython3",
   "version": "3.10.16"
  }
 },
 "nbformat": 4,
 "nbformat_minor": 5
}
